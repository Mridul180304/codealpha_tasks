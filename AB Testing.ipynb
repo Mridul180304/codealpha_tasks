{
 "cells": [
  {
   "cell_type": "markdown",
   "id": "51ef2fd3",
   "metadata": {},
   "source": [
    "# SCENARIO"
   ]
  },
  {
   "cell_type": "markdown",
   "id": "3476c354",
   "metadata": {},
   "source": [
    "A/B Testing Landing Pages"
   ]
  },
  {
   "cell_type": "markdown",
   "id": "7195a972",
   "metadata": {},
   "source": [
    "# OBJECTIVE "
   ]
  },
  {
   "cell_type": "markdown",
   "id": "169bbb6d",
   "metadata": {},
   "source": [
    "Determine which of two landing pages (Page A or Page B) results in a higher conversion rate."
   ]
  },
  {
   "cell_type": "markdown",
   "id": "827bbad6",
   "metadata": {},
   "source": [
    "# IMPORT THE REQUIRED LIBRARIES"
   ]
  },
  {
   "cell_type": "code",
   "execution_count": 21,
   "id": "5e1000a3",
   "metadata": {},
   "outputs": [],
   "source": [
    "import pandas as pd\n",
    "import numpy as np\n",
    "import matplotlib.pyplot as plt\n",
    "import seaborn as sns\n",
    "import scipy.stats"
   ]
  },
  {
   "cell_type": "markdown",
   "id": "3c8661b0",
   "metadata": {},
   "source": [
    "# GENERATE SYNTHETIC DATA"
   ]
  },
  {
   "cell_type": "code",
   "execution_count": 17,
   "id": "36555079",
   "metadata": {},
   "outputs": [],
   "source": [
    "import pandas as pd\n",
    "import numpy as np\n",
    "np.random.seed(30)\n",
    "num_users = 500\n",
    "data = {\n",
    "    'user_id': range(1, num_users + 1),\n",
    "    'page_version': np.random.choice(['A', 'B'], size=num_users),\n",
    "    'converted': np.concatenate([np.random.binomial(1, 0.25, num_users // 2),\n",
    "                                 np.random.binomial(1, 0.35, num_users // 2)])}\n",
    "\n",
    "df = pd.DataFrame(data)"
   ]
  },
  {
   "cell_type": "markdown",
   "id": "6a5b2ec8",
   "metadata": {},
   "source": [
    "# VISUALISE DATA"
   ]
  },
  {
   "cell_type": "code",
   "execution_count": 25,
   "id": "d50a970b",
   "metadata": {},
   "outputs": [
    {
     "data": {
      "image/png": "[encoded data removed]",
      "text/plain": [
       "<Figure size 576x432 with 1 Axes>"
      ]
     },
     "metadata": {
      "needs_background": "light"
     },
     "output_type": "display_data"
    }
   ],
   "source": [
    "conversion_rates = df.groupby('page_version')['converted'].mean().reset_index()\n",
    "conversion_rates.columns = ['Page Version', 'Conversion Rate']\n",
    "plt.figure(figsize=(8, 6))\n",
    "plot=sns.barplot(x='Page Version', y='Conversion Rate', data=conversion_rates, palette='dark')\n",
    "plot.bar_label(plot.containers[0])\n",
    "plt.title('Conversion Rates for Different Landing Pages')\n",
    "plt.ylabel('Conversion Rate')\n",
    "plt.xlabel('Landing Page Version')\n",
    "plt.ylim(0, 1)\n",
    "plt.show()"
   ]
  },
  {
   "cell_type": "code",
   "execution_count": 20,
   "id": "befd61e8",
   "metadata": {},
   "outputs": [
    {
     "name": "stdout",
     "output_type": "stream",
     "text": [
      "converted       0   1\n",
      "page_version         \n",
      "A             155  83\n",
      "B             199  63\n",
      "Chi-Square Statistic: 6.56\n",
      "P-Value: 0.0104\n",
      "The difference is statistically significant.\n"
     ]
    }
   ],
   "source": [
    "from scipy import stats\n",
    "contingency_table = pd.crosstab(df['page_version'], df['converted'])\n",
    "print(contingency_table)\n",
    "chi2, p, _, _ = stats.chi2_contingency(contingency_table)\n",
    "print(f\"Chi-Square Statistic: {chi2:.2f}\")\n",
    "print(f\"P-Value: {p:.4f}\")\n",
    "alpha = 0.05\n",
    "if p < alpha:\n",
    "    print(\"The difference is statistically significant.\")\n",
    "else:\n",
    "    print(\"The difference is not statistically significant.\")"
   ]
  },
  {
   "cell_type": "raw",
   "id": "78411b89",
   "metadata": {},
   "source": [
    "From our research both visually and statistically, We conclude that Page A has more conversion rate than Page B."
   ]
  }
 ],
 "metadata": {
  "kernelspec": {
   "display_name": "Python 3 (ipykernel)",
   "language": "python",
   "name": "python3"
  },
  "language_info": {
   "codemirror_mode": {
    "name": "ipython",
    "version": 3
   },
   "file_extension": ".py",
   "mimetype": "text/x-python",
   "name": "python",
   "nbconvert_exporter": "python",
   "pygments_lexer": "ipython3",
   "version": "3.9.12"
  },
  "nbTranslate": {
   "displayLangs": [
    "*"
   ],
   "hotkey": "alt-t",
   "langInMainMenu": true,
   "sourceLang": "en",
   "targetLang": "fr",
   "useGoogleTranslate": true
  },
  "varInspector": {
   "cols": {
    "lenName": 16,
    "lenType": 16,
    "lenVar": 40
   },
   "kernels_config": {
    "python": {
     "delete_cmd_postfix": "",
     "delete_cmd_prefix": "del ",
     "library": "var_list.py",
     "varRefreshCmd": "print(var_dic_list())"
    },
    "r": {
     "delete_cmd_postfix": ") ",
     "delete_cmd_prefix": "rm(",
     "library": "var_list.r",
     "varRefreshCmd": "cat(var_dic_list()) "
    }
   },
   "types_to_exclude": [
    "module",
    "function",
    "builtin_function_or_method",
    "instance",
    "_Feature"
   ],
   "window_display": false
  }
 },
 "nbformat": 4,
 "nbformat_minor": 5
}
